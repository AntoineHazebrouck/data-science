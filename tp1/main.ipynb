{
 "cells": [
  {
   "cell_type": "markdown",
   "metadata": {},
   "source": [
    "# 1 - Implantation de l’algorithme"
   ]
  },
  {
   "cell_type": "markdown",
   "metadata": {},
   "source": [
    "## 1.2 Ecriture de l’algorithme\n"
   ]
  },
  {
   "cell_type": "markdown",
   "metadata": {},
   "source": [
    "La mise en oeuvre de cet algorithme nécessite de manipuler des vecteurs et\n",
    "de procéder à des calculs vectoriels simples (addition, soustraction et multiplication de vecteurs). L’utilisation de la bibliothèque NumPy est donc conseillée.\n",
    "\n",
    "Pour implanter l’algorithme en Python et le rendre facilement réutilisable,\n",
    "nous allons nous inspirer de la bibliothèque Scikit-Learn, dans laquelle les classifieurs supervisés sont implantés en tant que classes d’objets munis :\n",
    "- de la méthode spéciale __init__() qui fournit les paramètres au moment\n",
    "de la création de l’objet classifieur,\n",
    "- et de deux méthodes principales : la méthode fit() qui réalise l’apprentissage et la méthode predict() qui réalise la prédiction à partir du\n",
    "modèle appris.\n",
    "\n",
    "Vous devez écrire le code d’une classe Perceptron dans un fichier que vous\n",
    "pourrez appeler perceptron.py. Cette classe doit comprendre les trois méthodes suivantes :\n",
    "\n",
    "- la méthode spéciale __init__(self, dimension, max_iter, learning_rate)\n",
    "qui crée l’objet classifieur et lui fournit les paramètres suivants :\n",
    "\t- dimension : dimension d des vecteurs d’entrée (nombre de caractéristiques de chaque entrée)\n",
    "\t- max_iter : nombre maximal d’itérations de l’algorithme\n",
    "\t- learning_rate : pas d’apprentissage\n",
    "\n",
    "La méthode doit aussi initialiser les coefficients de l’hyperplan (vecteur\n",
    "ω et réel ω0). L’initialisation peut se faire par tirage aléatoire en utilisant des fonctions de la bibliothèque Random pour les réels et du module\n",
    "random de NumPy pour les vecteurs.\n",
    "\n",
    "- la méthode fit(self,X,y) qui réalise l’apprentissage à partir des données d’entraînement : entrées X et sorties y. X est une liste de vecteurs\n",
    "NumPy de dimension dimension et y est un vecteur NumPy contenant\n",
    "les classes / labels (-1 ou +1) correspondant aux vecteurs d’entrée. Cette\n",
    "méthode ne retourne pas de résultat, elle correspond à l’algorithme du\n",
    "Perceptron et met à jour les coefficients de l’hyperplan (vecteur ω et réel\n",
    "ω0).\n",
    "Remarque : le nombre de données correspond à la taille de la liste X et à\n",
    "la dimension du vecteur y.\n",
    "- la méthode predict(self,x) qui réalise la prédiction de la classe pour\n",
    "une nouvelle entrée x, qui est un vecteur NumPy de dimension dimension. Cette méthode retourne la valeur prédite (-1 ou +1) pour la donnée\n",
    "x. Remarque : il est également possible de réaliser une version itérée de\n",
    "cette méthode prenant en paramètre une liste de vecteurs d’entrée et retournant la liste des prédictions correspondantes.\n",
    "\n",
    "Il est bien entendu possible d’ajouter d’autres méthodes à cette classe pour\n",
    "des besoins de calculs intermédiaires ou de structuration dans l’algorithme."
   ]
  },
  {
   "cell_type": "code",
   "execution_count": 3,
   "metadata": {},
   "outputs": [],
   "source": [
    "import numpy as np\n",
    "\n",
    "def add_bias_column(array):\n",
    "    return np.c_[array, np.ones((array.shape[0]))]\n",
    "\n",
    "class Perceptron:\n",
    "    def __init__(self, dimension, max_iter, learning_rate):\n",
    "        self.learning_rate = learning_rate\n",
    "        self.max_iter = max_iter\n",
    "\n",
    "        bonus_bias_column = 1\n",
    "        self.weights = np.random.rand(dimension + bonus_bias_column) / np.sqrt(dimension)\n",
    "\n",
    "\n",
    "    def step(self, x):\n",
    "        return 1 if x > 0 else 0\n",
    "\n",
    "    def fit(self, inputs, outputs): \n",
    "        # bias permet de deplacer la droite initialement bloquée à l'origine\n",
    "        inputs = add_bias_column(inputs)\n",
    "                \n",
    "        for iteration in np.arange(0, self.max_iter):\n",
    "            for (input, target) in zip(inputs, outputs):\n",
    "\n",
    "                dotted = np.dot(input, self.weights)\n",
    "                prediction = self.step(dotted)\n",
    "\n",
    "                if prediction != target:\n",
    "                    error = prediction - target\n",
    "\n",
    "                    # error for the sign\n",
    "                    self.weights += -self.learning_rate * error * input\n",
    "\n",
    "    def predict(self, data):\n",
    "        data = np.atleast_2d(data)\n",
    "        data = add_bias_column(data)\n",
    "\n",
    "        dotted = np.dot(data, self.weights)\n",
    "        return self.step(dotted)"
   ]
  },
  {
   "cell_type": "markdown",
   "metadata": {},
   "source": [
    "Pour bien comprendre comment les objets de cette classe peuvent être utilisés\n",
    "et faire une première validation de votre code, voici un exemple de session Python (à écrire dans un autre fichier, par exemple perceptron_test.py) qui crée\n",
    "une instance de la classe Perceptron et utilise les méthodes fit() et predict()\n",
    "pour l’entraînement et la prédiction.\n",
    "\n",
    "Remarque : cet exemple correspond à l’implémentation d’un ET logique à 2\n",
    "entrées (la sortie 1 correspondant au résultat VRAI \"1\" et la sortie -1 correspondant au résultat FAUX \"0\").\n",
    "\n",
    "```python\n",
    "import numpy as np\n",
    "from perceptron import Perceptron\n",
    "\n",
    "# creation des donnees apprentissage\n",
    "# entrees : 4 vecteurs d’entree de dimension 2\n",
    "X_train = [ ]\n",
    "X_train.append(np.array([1,1]))\n",
    "X_train.append(np.array([1,0]))\n",
    "X_train.append(np.array([0,1]))\n",
    "X_train.append(np.array([0,0]))\n",
    "\n",
    "# sorties : classes correspondant aux 4 entrees\n",
    "y_train = np.array([1,-1,-1,-1])\n",
    "\n",
    "# creation du classifieur\n",
    "perceptron = Perceptron(dimension=2, max_iter=100, learning_rate=0.1)\n",
    "\n",
    "# entrainement du classifieur −> calcul des coefficients de l’hyperplan\n",
    "perceptron.fit(X_train,y_train)\n",
    "\n",
    "# prediction de nouvelles entrees\n",
    "new_x = np.array([1,1])\n",
    "pr int (perceptron.predict(new_x))\n",
    "\n",
    "new_x = np.array([0,1])\n",
    "pr int (perceptron.predict(new_x))\n",
    "```"
   ]
  },
  {
   "cell_type": "code",
   "execution_count": 4,
   "metadata": {},
   "outputs": [
    {
     "name": "stdout",
     "output_type": "stream",
     "text": [
      "[INFO] training perceptron...\n",
      "[INFO] testing perceptron...\n",
      "[INFO] data=[0 0], ground-truth=0, pred=0\n",
      "[INFO] data=[0 1], ground-truth=0, pred=0\n",
      "[INFO] data=[1 0], ground-truth=0, pred=0\n",
      "[INFO] data=[1 1], ground-truth=1, pred=1\n"
     ]
    }
   ],
   "source": [
    "import numpy as np\n",
    "\n",
    "inputs = np.array([[0, 0], [0, 1], [1, 0], [1, 1]])\n",
    "outputs = np.array([[0], [0], [0], [1]])\n",
    "\n",
    "print(\"[INFO] training perceptron...\")\n",
    "p = Perceptron(inputs.shape[1], 20, 0.1)\n",
    "p.fit(inputs, outputs)\n",
    "\n",
    "print(\"[INFO] testing perceptron...\")\n",
    "\n",
    "for (prediction, target) in zip(inputs, outputs):\n",
    "\tpred = p.predict(prediction)\n",
    "\tprint(\"[INFO] data={}, ground-truth={}, pred={}\".format(prediction, target[0], pred))"
   ]
  },
  {
   "cell_type": "markdown",
   "metadata": {},
   "source": [
    "# 2 - Validation de l’algorithme\n"
   ]
  },
  {
   "cell_type": "markdown",
   "metadata": {},
   "source": [
    "Afin de valider votre algorithme, vous allez utiliser un jeu de données d’apprentissage existant téléchargeable à partir du dépôt \"UCI Machine Learning\n",
    "Repository\", également accessible sur MyLearningSpace sous le nom iris.csv.\n",
    "Commencez par ouvrir le fichier pour le visualiser.\n",
    "\n",
    "Le fichier comprend des données sur 150 fleurs d’iris : leurs caractéristiques\n",
    "(longueur et largeur des sépales, longueur et largeur des pétales) ainsi que leur\n",
    "espèce, c’est-à-dire leur classe (setosa, versicolor ou virginica). C’est un exemple\n",
    "classique très utilisé dans les tutoriels d’apprentissage.\n",
    "\n",
    "L’objectif est de faire une classification des fleurs d’iris, c’est-à-dire de retrouver leur espèce à partir de leurs caractéristiques. Dans le cas présent, puisque\n",
    "le perceptron est un classifieur binaire, on se limitera à deux espèces : setosa\n",
    "et versicolor, qui correspondent aux 100 premières données du fichier. De plus\n",
    "pour pouvoir visualiser les données, on se limitera à deux caractéristiques : la longueur des sépales et la longueur des pétales.\n",
    "\n",
    "Le code suivant vous permet :\n",
    "- de charger le jeu de données depuis le fichier\n",
    "- de le transformer en tableau Pandas\n",
    "- d’extraire les données exploitables pour la validation\n",
    "- d’obtenir une première visualisation des données\n",
    "\n",
    "```python\n",
    "import numpy as np\n",
    "import pandas as pd\n",
    "import matplotlib.pyplot as plt\n",
    "\n",
    "df = pd.read_csv( \"iris.csv\")\n",
    "\n",
    "X_data = df.iloc[0:100, [0, 2]].values\n",
    "\n",
    "y_data = df.iloc[0:100, 4].values\n",
    "\n",
    "y_data = np.where(y_data==\"setosa\", 0, 1)\n",
    "\n",
    "colors = {0: \"red\", 1 : \"blue\" }\n",
    "\n",
    "y_colors = [colors[y] for y in y_data ]\n",
    "\n",
    "plt.scatter(X_data[:, 0], X_data[:, 1], c=y_colors, s=100)\n",
    "plt.show()\n",
    "```"
   ]
  },
  {
   "cell_type": "code",
   "execution_count": 12,
   "metadata": {},
   "outputs": [
    {
     "data": {
      "image/png": "[encoded data removed]",
      "text/plain": [
       "<Figure size 640x480 with 1 Axes>"
      ]
     },
     "metadata": {},
     "output_type": "display_data"
    }
   ],
   "source": [
    "import numpy as np\n",
    "import pandas as pd\n",
    "import matplotlib.pyplot as plt\n",
    "\n",
    "df = pd.read_csv( \"iris.csv\")\n",
    "\n",
    "X_data = df.iloc[0:100, [0, 2]].values\n",
    "\n",
    "y_data = df.iloc[0:100, 4].values\n",
    "\n",
    "y_data = np.where(y_data==\"setosa\", 0, 1)\n",
    "\n",
    "colors = {0: \"red\", 1 : \"blue\" }\n",
    "\n",
    "y_colors = [colors[y] for y in y_data ]\n",
    "\n",
    "plt.scatter(X_data[:, 0], X_data[:, 1], c=y_colors, s=100)\n",
    "plt.show()\n"
   ]
  },
  {
   "cell_type": "markdown",
   "metadata": {},
   "source": [
    "En examinant le nuage de points, on peut observer que les données sélectionnées sont linéairement séparables (ce n’est pas forcément le cas si on choisit d’autres classes et d’autres caractéristiques, vous pouvez tester).\n",
    "\n",
    "Avant d’entraîner le perceptron, vous devez d’abord séparer les données en\n",
    "deux ensembles : un jeu d’entraînement et un jeu de test. L’utilisation de la\n",
    "fonction train_test_split() de Scikit-Learn vue en cours vous permet d’obtenir ces deux ensembles en une seule instruction. Vous pouvez utiliser les noms\n",
    "usuels pour les variables retournées par la fonction : X_train, X_test, y_train\n",
    "et y_test. Cette fonction peut être importée dans le code comme indiqué ci-dessous.\n",
    "\n",
    "```python\n",
    "from sklearn.model_selection import train_test_split\n",
    "```"
   ]
  },
  {
   "cell_type": "code",
   "execution_count": 6,
   "metadata": {},
   "outputs": [],
   "source": [
    "from sklearn.model_selection import train_test_split\n",
    "\n",
    "input_train, input_test, output_train, output_test = train_test_split(X_data, y_data)"
   ]
  },
  {
   "cell_type": "markdown",
   "metadata": {},
   "source": [
    "Vous pouvez à présent créer une instance du classifieur et réaliser l’apprentissage sur le jeu d’entraînement à l’aide de la méthode fit(). Vous pouvez\n",
    "ensuite afficher les valeurs des coefficients ω et w0 calculés par l’algorithme du\n",
    "perceptron."
   ]
  },
  {
   "cell_type": "code",
   "execution_count": 7,
   "metadata": {},
   "outputs": [],
   "source": [
    "perceptron = Perceptron(2, 20, 0.1)\n",
    "\n",
    "perceptron.fit(input_train, output_train)"
   ]
  },
  {
   "cell_type": "markdown",
   "metadata": {},
   "source": [
    "Il est ensuite possible d’effectuer des prédictions de classes sur le jeu de\n",
    "test avec la méthode predict(). Il est intéressant de visualiser les résultats en\n",
    "comparant les classes prédites avec les vraies classes attendues par un affichage approprié (une boucle d’affichage des classes prédites et de test suffit dans un\n",
    "premier temps)."
   ]
  },
  {
   "cell_type": "code",
   "execution_count": 8,
   "metadata": {},
   "outputs": [
    {
     "name": "stdout",
     "output_type": "stream",
     "text": [
      "prediction : 1, actual : 1\n",
      "prediction : 0, actual : 0\n",
      "prediction : 0, actual : 0\n",
      "prediction : 0, actual : 0\n",
      "prediction : 1, actual : 1\n",
      "prediction : 1, actual : 1\n",
      "prediction : 0, actual : 0\n",
      "prediction : 1, actual : 1\n",
      "prediction : 1, actual : 1\n",
      "prediction : 1, actual : 1\n",
      "prediction : 1, actual : 1\n",
      "prediction : 1, actual : 1\n",
      "prediction : 1, actual : 1\n",
      "prediction : 1, actual : 1\n",
      "prediction : 1, actual : 1\n",
      "prediction : 1, actual : 1\n",
      "prediction : 1, actual : 1\n",
      "prediction : 0, actual : 0\n",
      "prediction : 1, actual : 1\n",
      "prediction : 1, actual : 1\n",
      "prediction : 1, actual : 1\n",
      "prediction : 1, actual : 1\n",
      "prediction : 0, actual : 0\n",
      "prediction : 1, actual : 1\n",
      "prediction : 1, actual : 1\n"
     ]
    }
   ],
   "source": [
    "output_prediction = [perceptron.predict(input) for input in input_test]\n",
    "\n",
    "for (prediction, target) in zip(output_prediction, output_test):\n",
    "\tprint(\"prediction : {}, actual : {}\".format(prediction, target))"
   ]
  },
  {
   "cell_type": "markdown",
   "metadata": {},
   "source": [
    "Il est également intéressant de construire une nouvelle visualisation des données avec le tracé de la droite qui sépare les 2 classes. Les paramètres de cette\n",
    "droite de séparation sont à déterminer en fonction des coefficients du perceptron."
   ]
  },
  {
   "cell_type": "code",
   "execution_count": 9,
   "metadata": {},
   "outputs": [
    {
     "data": {
      "image/png": "[encoded data removed]",
      "text/plain": [
       "<Figure size 640x480 with 1 Axes>"
      ]
     },
     "metadata": {},
     "output_type": "display_data"
    }
   ],
   "source": [
    "weightX = perceptron.weights[0]\n",
    "weightY = perceptron.weights[1]\n",
    "weightBias = perceptron.weights[2]\n",
    "\n",
    "def formula(x):\n",
    "\t# resolved equation\n",
    "\ty = -(weightX / weightY) * x - weightBias / weightY\n",
    "\treturn y\n",
    "\n",
    "plt.plot([0, 10], [formula(0), formula(10)], marker = 'o')\n",
    "plt.title('Efficacité du perceptron')\n",
    "plt.scatter(x=X_data[:, 0], y=X_data[:, 1], c=y_colors, s=100)\n",
    "plt.show()"
   ]
  },
  {
   "cell_type": "markdown",
   "metadata": {},
   "source": [
    "# 3 - Evaluation des performances"
   ]
  },
  {
   "cell_type": "markdown",
   "metadata": {},
   "source": [
    "On cherche maintenant à évaluer la performance du modèle en comparant\n",
    "de façon quantitative les classes prédites par le modèle avec les classes réelles\n",
    "fournies dans le jeu de test.\n",
    "\n",
    "Scikit-Learn propose plusieurs métriques pour obtenir une évaluation quantitative du modèle (voir le package sklearn.metrics) :\n",
    "- accuracy_score()\n",
    "- confusion_matrix()\n",
    "- precision_score()\n",
    "- recall_score()\n",
    "- f1_score().\n",
    "\n",
    "Toutes ces métriques ont été vues en cours. Parcourez la documentation de\n",
    "ces fonctions puis appliquez les sur votre jeu de test. Analysez les résultats obtenus. Que pouvez-vous en déduire sur l’efficacité de l’algorithme ?"
   ]
  },
  {
   "cell_type": "code",
   "execution_count": 10,
   "metadata": {},
   "outputs": [
    {
     "name": "stdout",
     "output_type": "stream",
     "text": [
      "accuracy : 1.0\n",
      "confusion : \n",
      " [[ 6  0]\n",
      " [ 0 19]]\n",
      "precision : 1.0\n",
      "f1 : 1.0\n"
     ]
    }
   ],
   "source": [
    "from sklearn.metrics import *\n",
    "\n",
    "\n",
    "accuracy = accuracy_score(y_true=output_test, y_pred=output_prediction)\n",
    "confusion = confusion_matrix(y_true=output_test, y_pred=output_prediction)\n",
    "precision = precision_score(y_true=output_test, y_pred=output_prediction)\n",
    "recall = recall_score(y_true=output_test, y_pred=output_prediction)\n",
    "f1 = f1_score(y_true=output_test, y_pred=output_prediction)\n",
    "\n",
    "print(\"accuracy : {}\".format(accuracy))\n",
    "print(\"confusion : \\n {}\".format(confusion))\n",
    "print(\"precision : {}\".format(precision))\n",
    "print(\"f1 : {}\".format(f1))\n",
    "\n"
   ]
  },
  {
   "cell_type": "markdown",
   "metadata": {},
   "source": [
    "Une façon d’améliorer l’évaluation du modèle est de recourir à la méthode\n",
    "de validation croisée. Cette méthode a été expliquée en cours. Elle consiste\n",
    "à découper aléatoirement le jeu d’entraînement en plusieurs sous-ensembles distincts puis à entraîner et à évaluer le modèle en passes successives. A chaque\n",
    "passe, un bloc est réservé pour l’évaluation et les blocs restants sont utilisés\n",
    "pour l’entraînement.\n",
    "\n",
    "Scikit-Learn fournit des éléments pour appliquer cette méthode. La classe\n",
    "KFold permet de réaliser une validation croisée en K passes et la fonction\n",
    "cross_val_score() permet d’obtenir les résultats d’une validation croisée (voir\n",
    "le package sklearn.model_selection).\n",
    "\n",
    "REMARQUE : Pour pouvoir utiliser la fonction cross_val_score(), il\n",
    "ne faut plus utiliser la classe Perceptron que vous avez codée mais la classe\n",
    "Perceptron définie dans Scikit-Learn, qui peut être importée dans le code et\n",
    "renommée (pour distinguer les 2 classes) comme indiqué ci-dessous :\n",
    "\n",
    "```python\n",
    "from sklearn.linear_model import Perceptron as SkPerceptron\n",
    "```\n",
    "\n",
    "Après avoir examiné la documentation sur ces différents éléments, construire\n",
    "une validation croisée de l’algorithme du perceptron sur le jeu de données. La\n",
    "fonction cross_val_score() retourne un objet dans lequel sont stockés les\n",
    "résultats. Analysez ces résultats et comparez avec les résultats obtenus précédemment sans validation croisée."
   ]
  },
  {
   "cell_type": "code",
   "execution_count": null,
   "metadata": {},
   "outputs": [
    {
     "data": {
      "text/plain": [
       "array([1., 1., 1., 1., 1.])"
      ]
     },
     "execution_count": 22,
     "metadata": {},
     "output_type": "execute_result"
    }
   ],
   "source": [
    "from sklearn.model_selection import *\n",
    "from sklearn.linear_model import Perceptron as SkPerceptron\n",
    "\n",
    "splits = KFold(n_splits=5, shuffle=True).get_n_splits(X=X_data, y=y_data)\n",
    "\n",
    "cross_val_score(SkPerceptron(max_iter=20), X=X_data, y=y_data, cv=splits)"
   ]
  },
  {
   "cell_type": "markdown",
   "metadata": {},
   "source": [
    "# 4 - Optionnel : Sauvegarde du modèle entraîné\n"
   ]
  },
  {
   "cell_type": "markdown",
   "metadata": {},
   "source": [
    "Lorsque vous avez trouvé un bon modèle pour votre problème, il faut penser\n",
    "à sa mise en production dans une application. Cela implique de sauvegarder le\n",
    "modèle entraîné et de vérifier son chargement pour réaliser des prédictions avec\n",
    "de nouvelles données dans le système en production.\n",
    "\n",
    "Un modèle produit avec la bibliothèque Scikit-Learn peut être sauvegardé\n",
    "en utilisant la bibliothèque de sérialisation d’objets qui s’appelle Pickle. Cette\n",
    "bibliothèque dispose des fonctions dump() et load() pour respectivement sauvegarder et charger le modèle. Examinez la documentation de ces fonctions pour\n",
    "connaître leurs paramètres et appliquez les dans votre TP."
   ]
  },
  {
   "cell_type": "code",
   "execution_count": 23,
   "metadata": {},
   "outputs": [],
   "source": [
    "import pickle\n",
    "\n"
   ]
  }
 ],
 "metadata": {
  "kernelspec": {
   "display_name": "base",
   "language": "python",
   "name": "python3"
  },
  "language_info": {
   "codemirror_mode": {
    "name": "ipython",
    "version": 3
   },
   "file_extension": ".py",
   "mimetype": "text/x-python",
   "name": "python",
   "nbconvert_exporter": "python",
   "pygments_lexer": "ipython3",
   "version": "3.11.5"
  }
 },
 "nbformat": 4,
 "nbformat_minor": 2
}
